{
 "cells": [
  {
   "cell_type": "code",
   "execution_count": null,
   "id": "d69014c0-9266-4c89-867b-29eefec97a98",
   "metadata": {},
   "outputs": [],
   "source": [
    "import os\n",
    "\n",
    "YEARS = list(range(2016, 2023))\n",
    "\n",
    "BASKETBALL_DATA_FOLDER = \"basketball_data\"\n",
    "GAME_RESULTS_FOLDER = os.path.join(BASKETBALL_DATA_FOLDER, \"game_results\")\n",
    "LEAGUE_RANKINGS_FOLDER = os.path.join(BASKETBALL_DATA_FOLDER, \"league_rankings\")"
   ]
  },
  {
   "cell_type": "code",
   "execution_count": null,
   "id": "ded5e28c-c7df-418e-8b15-a169a2f02111",
   "metadata": {},
   "outputs": [],
   "source": [
    "from bs4 import BeautifulSoup\n",
    "from playwright.async_api import async_playwright, TimeoutError as PlaywrightTimeout\n",
    "import time\n",
    "# Make sure to install playwright browsers by running playwright install on the command line or !playwright install from Jupyter"
   ]
  },
  {
   "cell_type": "code",
   "execution_count": null,
   "id": "fb125fef-268f-4d50-a3db-ed798fe90369",
   "metadata": {},
   "outputs": [],
   "source": [
    "async def fetch_page_content(web_address, element_selector, delay=5, attempts=3):\n",
    "    content = None\n",
    "    for attempt in range(1, attempts + 1):\n",
    "        time.sleep(delay * attempt)\n",
    "        try:\n",
    "            async with async_playwright() as playwright_instance:\n",
    "                browser = await playwright_instance.chromium.launch()\n",
    "                page = await browser.new_page()\n",
    "                await page.goto(web_address)\n",
    "                print(await page.title())\n",
    "                content = await page.inner_html(element_selector)\n",
    "        except PlaywrightTimeout:\n",
    "            print(f\"Timeout occurred while accessing {web_address}\")\n",
    "            continue\n",
    "        else:\n",
    "            break\n",
    "    return content"
   ]
  },
  {
   "cell_type": "code",
   "execution_count": null,
   "id": "5b810f31-5713-4d60-94b5-be2fbd0e0338",
   "metadata": {},
   "outputs": [],
   "source": [
    "async def extract_season_data(year):\n",
    "    page_url = f\"https://www.basketball-reference.com/leagues/NBA_{year}_games.html\"\n",
    "    page_content = await fetch_page_content(page_url, \"#content .filter\")\n",
    "\n",
    "    parser = BeautifulSoup(page_content, 'html.parser')\n",
    "    anchor_tags = parser.find_all(\"a\")\n",
    "    schedule_pages = [f\"https://www.basketball-reference.com{tag['href']}\" for tag in anchor_tags]\n",
    "\n",
    "    for page_url in schedule_pages:\n",
    "        file_path = os.path.join(LEAGUE_RANKINGS_FOLDER, page_url.split(\"/\")[-1])\n",
    "        if os.path.exists(file_path):\n",
    "            continue\n",
    "\n",
    "        schedule_content = await fetch_page_content(page_url, \"#all_schedule\")\n",
    "        with open(file_path, \"w+\") as file:\n",
    "            file.write(schedule_content)"
   ]
  },
  {
   "cell_type": "code",
   "execution_count": null,
   "id": "fc42da87-4b10-4331-9fa0-aa2c29827289",
   "metadata": {},
   "outputs": [
    {
     "name": "stdout",
     "output_type": "stream",
     "text": [
      "2015-16 NBA Schedule | Basketball-Reference.com\n",
      "2016-17 NBA Schedule | Basketball-Reference.com\n",
      "2017-18 NBA Schedule | Basketball-Reference.com\n",
      "2018-19 NBA Schedule | Basketball-Reference.com\n",
      "2019-20 NBA Schedule | Basketball-Reference.com\n",
      "2019-20 NBA Schedule | Basketball-Reference.com\n",
      "2020-21 NBA Schedule | Basketball-Reference.com\n",
      "2020-21 NBA Schedule | Basketball-Reference.com\n",
      "2020-21 NBA Schedule | Basketball-Reference.com\n",
      "2020-21 NBA Schedule | Basketball-Reference.com\n",
      "2020-21 NBA Schedule | Basketball-Reference.com\n",
      "2020-21 NBA Schedule | Basketball-Reference.com\n",
      "2020-21 NBA Schedule | Basketball-Reference.com\n",
      "2020-21 NBA Schedule | Basketball-Reference.com\n",
      "2020-21 NBA Schedule | Basketball-Reference.com\n",
      "2021-22 NBA Schedule | Basketball-Reference.com\n",
      "2021-22 NBA Schedule | Basketball-Reference.com\n",
      "2021-22 NBA Schedule | Basketball-Reference.com\n",
      "2021-22 NBA Schedule | Basketball-Reference.com\n",
      "2021-22 NBA Schedule | Basketball-Reference.com\n",
      "2021-22 NBA Schedule | Basketball-Reference.com\n",
      "2021-22 NBA Schedule | Basketball-Reference.com\n",
      "2021-22 NBA Schedule | Basketball-Reference.com\n",
      "2021-22 NBA Schedule | Basketball-Reference.com\n",
      "2021-22 NBA Schedule | Basketball-Reference.com\n"
     ]
    }
   ],
   "source": [
    "for year in YEARS:\n",
    "    await extract_season_data(year)"
   ]
  },
  {
   "cell_type": "code",
   "execution_count": null,
   "id": "3baa481a-38fa-4045-a679-b02b1d92ef0a",
   "metadata": {},
   "outputs": [],
   "source": [
    "ranking_files = os.listdir(LEAGUE_RANKINGS_FOLDER)"
   ]
  },
  {
   "cell_type": "code",
   "execution_count": null,
   "id": "8948c800-acbe-43c8-b213-f348eb11d4c7",
   "metadata": {},
   "outputs": [],
   "source": [
    "async def extract_game_data(ranking_file):\n",
    "    with open(ranking_file, 'r') as file:\n",
    "        page_content = file.read()\n",
    "\n",
    "    parser = BeautifulSoup(page_content, 'html.parser')\n",
    "    anchor_tags = parser.find_all(\"a\")\n",
    "    hrefs = [tag.get('href') for tag in anchor_tags]\n",
    "    game_links = [f\"https://www.basketball-reference.com{href}\" for href in hrefs if href and \"boxscore\" in href and '.html' in href]\n",
    "\n",
    "    for game_url in game_links:\n",
    "        file_path = os.path.join(GAME_RESULTS_FOLDER, game_url.split(\"/\")[-1])\n",
    "        if os.path.exists(file_path):\n",
    "            continue\n",
    "\n",
    "        game_content = await fetch_page_content(game_url, \"#content\")\n",
    "        if not game_content:\n",
    "            continue\n",
    "        with open(file_path, \"w+\") as file:\n",
    "            file.write(game_content)"
   ]
  },
  {
   "cell_type": "code",
   "execution_count": null,
   "id": "c6c23fb4-88af-4d34-87fd-8753e43fb4fe",
   "metadata": {},
   "outputs": [],
   "source": [
    "import pandas as pd\n",
    "\n",
    "for year in YEARS:\n",
    "    files = [file for file in ranking_files if str(year) in file]\n",
    "    \n",
    "    for file_path in files:\n",
    "        full_path = os.path.join(LEAGUE_RANKINGS_FOLDER, file_path)\n",
    "        \n",
    "        await extract_game_data(full_path)"
   ]
  }
 ],
 "metadata": {
  "kernelspec": {
   "display_name": "Python 3 (ipykernel)",
   "language": "python",
   "name": "python3"
  },
  "language_info": {
   "codemirror_mode": {
    "name": "ipython",
    "version": 3
   },
   "file_extension": ".py",
   "mimetype": "text/x-python",
   "name": "python",
   "nbconvert_exporter": "python",
   "pygments_lexer": "ipython3",
   "version": "3.9.13"
  }
 },
 "nbformat": 4,
 "nbformat_minor": 5
}
